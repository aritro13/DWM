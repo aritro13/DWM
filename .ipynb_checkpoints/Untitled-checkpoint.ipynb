{
 "cells": [
  {
   "cell_type": "code",
   "execution_count": 144,
   "metadata": {
    "scrolled": false
   },
   "outputs": [],
   "source": [
    "import pandas as pd\n",
    "import numpy as np\n",
    "from scipy.stats import entropy\n",
    "from math import log2\n",
    "\n",
    "data = pd.read_csv('DS.csv', delimiter=',')"
   ]
  },
  {
   "cell_type": "code",
   "execution_count": 145,
   "metadata": {},
   "outputs": [
    {
     "name": "stdout",
     "output_type": "stream",
     "text": [
      "   Transaction      Income     Credit     Decision\n",
      "0            1  Very Heigh  Excellent   Authorized\n",
      "1            2       Heigh       Good   Authorized\n",
      "2            3      Medium  Excellent   Authorized\n",
      "3            4       Heigh       Good   Authorized\n",
      "4            5  Very Heigh       Good   Authorized\n",
      "5            6      Medium  Excellent   Authorized\n",
      "6            7       Heigh        bad   Request ID\n",
      "7            8      Medium        bad   Request ID\n",
      "8            9       Heigh        bad       Reject\n",
      "9           10         Low        bad  Call Police\n"
     ]
    }
   ],
   "source": [
    "print(data)\n",
    "Decision = \"Decision\"\n",
    "totalLength = len(data)"
   ]
  },
  {
   "cell_type": "code",
   "execution_count": 146,
   "metadata": {},
   "outputs": [],
   "source": [
    "valueD,countsD = np.unique(data[Decision], return_counts=True)"
   ]
  },
  {
   "cell_type": "code",
   "execution_count": 202,
   "metadata": {},
   "outputs": [
    {
     "name": "stdout",
     "output_type": "stream",
     "text": [
      "0.7854752972273344\n",
      "[4 1 3 2]\n",
      "{'Heigh': 0.75}\n",
      "{'Low': 0.0}\n",
      "{'Medium': 0.4591479170272447}\n",
      "{'Very Heigh': 0.0}\n",
      "0.43774437510817343\n"
     ]
    }
   ],
   "source": [
    "\n",
    "def CalacIniEntropy():\n",
    "    base = len(countsD)\n",
    "    vc = pd.Series(data[Decision]).value_counts(normalize=True)\n",
    "    entropyV = -(vc * np.log(vc)/np.log(base)).sum()\n",
    "    print(entropy(countsD, base=base))\n",
    "    \n",
    "def CalacEntropy(lable):\n",
    "    weightGain = 0\n",
    "    values,counts = np.unique(data[lable], return_counts=True)\n",
    "    print(counts)\n",
    "    for i in range(0,len(values)):\n",
    "        count = 0\n",
    "        Dict = {}\n",
    "        CountList = []\n",
    "        for decVal in valueD:\n",
    "            v = data.loc[(data[lable] == values[i]) & (data[Decision] == decVal)]\n",
    "            CountList.append(len(v))\n",
    "        Dict[values[i]] = entropy(CountList, base=base)\n",
    "        weightGain = (counts[i]/totalLength)*Dict[values[i]] + weightGain\n",
    "        print(Dict)\n",
    "    print(weightGain)\n",
    "CalacIniEntropy()\n",
    "CalacEntropy(\"Income\")"
   ]
  }
 ],
 "metadata": {
  "kernelspec": {
   "display_name": "Python 3",
   "language": "python",
   "name": "python3"
  },
  "language_info": {
   "codemirror_mode": {
    "name": "ipython",
    "version": 3
   },
   "file_extension": ".py",
   "mimetype": "text/x-python",
   "name": "python",
   "nbconvert_exporter": "python",
   "pygments_lexer": "ipython3",
   "version": "3.7.3"
  }
 },
 "nbformat": 4,
 "nbformat_minor": 2
}
